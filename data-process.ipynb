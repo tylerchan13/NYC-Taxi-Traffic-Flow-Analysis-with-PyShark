{
 "cells": [
  {
   "cell_type": "code",
   "execution_count": null,
   "id": "9737ca26",
   "metadata": {
    "vscode": {
     "languageId": "plaintext"
    }
   },
   "outputs": [],
   "source": [
    "from pyspark.sql import SparkSession\n",
    "from pyspark.sql.functions import col, to_timestamp, hour, dayofweek\n",
    "\n",
    "# Initialize SparkSession\n",
    "spark = SparkSession.builder.appName(\"NYC Taxi Preprocessing\").getOrCreate()\n",
    "\n",
    "# Load CSV data (adjust path if needed)\n",
    "df = spark.read.csv(\"../data/yellow_tripdata_2023-01.csv\", header=True, inferSchema=True)\n",
    "\n",
    "# Remove duplicates\n",
    "df = df.dropDuplicates()\n",
    "\n",
    "# Drop rows with missing critical values\n",
    "df = df.na.drop(subset=[\"tpep_pickup_datetime\", \"trip_distance\", \"passenger_count\"])\n",
    "\n",
    "# Convert pickup datetime to timestamp type\n",
    "df = df.withColumn(\"pickup_datetime\", to_timestamp(col(\"tpep_pickup_datetime\")))\n",
    "\n",
    "# Extract hour and day of week\n",
    "df = df.withColumn(\"pickup_hour\", hour(col(\"pickup_datetime\")))\n",
    "df = df.withColumn(\"pickup_dayofweek\", dayofweek(col(\"pickup_datetime\")))\n",
    "\n",
    "# Filter out invalid trips\n",
    "df = df.filter((col(\"trip_distance\") > 0) & (col(\"passenger_count\") > 0))\n",
    "\n",
    "# Show sample data\n",
    "df.select(\"pickup_datetime\", \"pickup_hour\", \"pickup_dayofweek\", \"trip_distance\", \"passenger_count\").show(5)"
   ]
  },
  {
   "cell_type": "code",
   "execution_count": null,
   "metadata": {
    "vscode": {
     "languageId": "plaintext"
    }
   },
   "outputs": [],
   "source": []
  }
 ],
 "metadata": {
  "language_info": {
   "name": "python"
  }
 },
 "nbformat": 4,
 "nbformat_minor": 5
}
