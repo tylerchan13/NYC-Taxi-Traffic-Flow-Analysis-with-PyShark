{
 "cells": [
  {
   "cell_type": "code",
   "execution_count": null,
   "id": "9737ca26",
   "metadata": {
    "vscode": {
     "languageId": "plaintext"
    }
   },
   "outputs": [],
   "source": []
  },
  {
   "cell_type": "code",
   "execution_count": null,
   "id": "053d4784",
   "metadata": {
    "vscode": {
     "languageId": "plaintext"
    }
   },
   "outputs": [],
   "source": [
    "# Use the dataframe 'df' from previous notebook or reload and preprocess first\n",
    "\n",
    "# Aggregate trips by pickup hour\n",
    "hourly_counts = df.groupBy(\"pickup_hour\").count().orderBy(\"pickup_hour\")\n",
    "\n",
    "# Show hourly counts\n",
    "hourly_counts.show()\n",
    "\n",
    "# Convert to Pandas for visualization\n",
    "hourly_pd = hourly_counts.toPandas()\n",
    "\n",
    "import matplotlib.pyplot as plt\n",
    "\n",
    "plt.figure(figsize=(10,6))\n",
    "plt.bar(hourly_pd['pickup_hour'], hourly_pd['count'], color='steelblue')\n",
    "plt.xlabel('Hour of Day')\n",
    "plt.ylabel('Number of Trips')\n",
    "plt.title('NYC Taxi Trips by Hour')\n",
    "plt.grid(True)\n",
    "plt.savefig(\"../images/hourly_trips.png\")\n",
    "plt.show()\n",
    "未选择文件"
   ]
  }
 ],
 "metadata": {
  "language_info": {
   "name": "python"
  }
 },
 "nbformat": 4,
 "nbformat_minor": 5
}
