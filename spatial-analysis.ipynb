{
 "cells": [
  {
   "cell_type": "code",
   "execution_count": null,
   "id": "1b52f548",
   "metadata": {
    "vscode": {
     "languageId": "plaintext"
    }
   },
   "outputs": [],
   "source": [
    "from pyspark.sql.functions import floor, col\n",
    "\n",
    "# Create grid cells by flooring longitude and latitude (example granularity 0.01 degrees)\n",
    "df = df.withColumn(\"pickup_long_grid\", floor(col(\"pickup_longitude\") * 100))\n",
    "df = df.withColumn(\"pickup_lat_grid\", floor(col(\"pickup_latitude\") * 100))\n",
    "\n",
    "# Aggregate by grid cell\n",
    "grid_counts = df.groupBy(\"pickup_long_grid\", \"pickup_lat_grid\").count().orderBy(col(\"count\").desc())\n",
    "\n",
    "# Show top 10 busiest grid cells\n",
    "grid_counts.show(10)\n",
    "\n",
    "# Export to Pandas and save if needed for mapping outside Spark\n",
    "grid_pd = grid_counts.toPandas()\n",
    "grid_pd.to_csv(\"../images/grid_counts.csv\", index=False)\n"
   ]
  }
 ],
 "metadata": {
  "language_info": {
   "name": "python"
  }
 },
 "nbformat": 4,
 "nbformat_minor": 5
}
